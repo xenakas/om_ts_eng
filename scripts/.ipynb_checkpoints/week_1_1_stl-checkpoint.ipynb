{
 "cells": [
  {
   "cell_type": "code",
   "execution_count": null,
   "id": "44a114fc",
   "metadata": {
    "ExecuteTime": {
     "end_time": "2022-12-27T15:12:36.275273Z",
     "start_time": "2022-12-27T15:12:34.626Z"
    }
   },
   "outputs": [],
   "source": [
    "library(tidyverse)\n",
    "library(fpp3) \n",
    "library(rio)\n",
    "library(ggrepel)\n",
    "k <- 1.5\n",
    "options(repr.plot.width=6*k, repr.plot.height=5*k)"
   ]
  },
  {
   "cell_type": "markdown",
   "id": "82982103",
   "metadata": {},
   "source": [
    "### Marriages"
   ]
  },
  {
   "cell_type": "code",
   "execution_count": null,
   "id": "b8674f65",
   "metadata": {
    "ExecuteTime": {
     "end_time": "2022-12-27T15:12:56.114438Z",
     "start_time": "2022-12-27T15:12:56.047Z"
    }
   },
   "outputs": [],
   "source": [
    "m <- import('marriages.csv')\n",
    "head(m)"
   ]
  },
  {
   "cell_type": "code",
   "execution_count": null,
   "id": "d95da19d",
   "metadata": {
    "ExecuteTime": {
     "end_time": "2022-12-27T15:06:33.473829Z",
     "start_time": "2022-12-27T15:06:33.434Z"
    }
   },
   "outputs": [],
   "source": [
    "m2 <- ..."
   ]
  },
  {
   "cell_type": "code",
   "execution_count": null,
   "id": "e19da4f4",
   "metadata": {
    "ExecuteTime": {
     "end_time": "2022-12-27T15:08:46.174277Z",
     "start_time": "2022-12-27T15:08:46.109Z"
    }
   },
   "outputs": [],
   "source": [
    "marriages <- as_tsibble(m2, index = date,\n",
    "                       key = c('code', 'name'))"
   ]
  },
  {
   "cell_type": "code",
   "execution_count": null,
   "id": "0de2eb53",
   "metadata": {
    "ExecuteTime": {
     "end_time": "2022-12-27T14:51:10.535855Z",
     "start_time": "2022-12-27T14:51:09.178Z"
    }
   },
   "outputs": [],
   "source": [
    "m_rf <- filter(marriages, code == 643)\n",
    "gg_tsdisplay(m_rf, total, plot_type = 'season')"
   ]
  },
  {
   "cell_type": "code",
   "execution_count": null,
   "id": "8455040f",
   "metadata": {
    "ExecuteTime": {
     "end_time": "2022-12-27T14:51:12.833193Z",
     "start_time": "2022-12-27T14:51:12.769Z"
    }
   },
   "outputs": [],
   "source": [
    "m_rf_full <- filter(m_rf, date < ymd('2021-10-01'))\n",
    "tail(m_rf_full)"
   ]
  },
  {
   "cell_type": "code",
   "execution_count": null,
   "id": "dfa42e30",
   "metadata": {
    "ExecuteTime": {
     "end_time": "2022-12-27T14:51:13.285370Z",
     "start_time": "2022-12-27T14:51:13.226Z"
    }
   },
   "outputs": [],
   "source": [
    "stl_model <- ..."
   ]
  },
  {
   "cell_type": "code",
   "execution_count": null,
   "id": "0e54654d",
   "metadata": {
    "ExecuteTime": {
     "end_time": "2022-12-27T14:51:15.316697Z",
     "start_time": "2022-12-27T14:51:15.196Z"
    }
   },
   "outputs": [],
   "source": [
    "..."
   ]
  },
  {
   "cell_type": "markdown",
   "id": "1fefc812",
   "metadata": {},
   "source": [
    "### Calls"
   ]
  },
  {
   "cell_type": "code",
   "execution_count": null,
   "id": "8b31918e",
   "metadata": {
    "ExecuteTime": {
     "end_time": "2022-12-27T14:51:15.528944Z",
     "start_time": "2022-12-27T14:51:15.439Z"
    }
   },
   "outputs": [],
   "source": [
    "head(bank_calls)"
   ]
  },
  {
   "cell_type": "code",
   "execution_count": null,
   "id": "bc958999",
   "metadata": {
    "ExecuteTime": {
     "end_time": "2022-12-27T14:51:16.341796Z",
     "start_time": "2022-12-27T14:51:15.551Z"
    }
   },
   "outputs": [],
   "source": [
    "..."
   ]
  },
  {
   "cell_type": "code",
   "execution_count": null,
   "id": "dee76e07",
   "metadata": {
    "ExecuteTime": {
     "end_time": "2022-12-27T11:46:13.371067Z",
     "start_time": "2022-12-27T11:46:13.188Z"
    }
   },
   "outputs": [],
   "source": [
    "calls_with_t = mutate(bank_calls, \n",
    "              t = row_number())\n",
    "calls_with_t"
   ]
  },
  {
   "cell_type": "code",
   "execution_count": null,
   "id": "81d7c0a5",
   "metadata": {
    "ExecuteTime": {
     "end_time": "2022-12-27T11:46:15.782016Z",
     "start_time": "2022-12-27T11:46:15.579Z"
    }
   },
   "outputs": [],
   "source": [
    "calls_tsibble = as_tsibble(calls_with_t, \n",
    "              index = t)\n",
    "calls_tsibble"
   ]
  },
  {
   "cell_type": "code",
   "execution_count": null,
   "id": "ee9dd85c",
   "metadata": {
    "ExecuteTime": {
     "end_time": "2022-12-27T11:46:19.072136Z",
     "start_time": "2022-12-27T11:46:18.494Z"
    }
   },
   "outputs": [],
   "source": [
    "model <- ..."
   ]
  }
 ],
 "metadata": {
  "hide_input": false,
  "kernelspec": {
   "display_name": "R 4.2",
   "language": "R",
   "name": "ir42"
  },
  "language_info": {
   "codemirror_mode": "r",
   "file_extension": ".r",
   "mimetype": "text/x-r-source",
   "name": "R",
   "pygments_lexer": "r",
   "version": "4.2.1"
  },
  "latex_envs": {
   "LaTeX_envs_menu_present": true,
   "autoclose": true,
   "autocomplete": true,
   "bibliofile": "biblio.bib",
   "cite_by": "apalike",
   "current_citInitial": 1,
   "eqLabelWithNumbers": true,
   "eqNumInitial": 1,
   "hotkeys": {
    "equation": "Ctrl-E",
    "itemize": "Ctrl-I"
   },
   "labels_anchors": false,
   "latex_user_defs": false,
   "report_style_numbering": false,
   "user_envs_cfg": false
  },
  "toc": {
   "base_numbering": 1,
   "nav_menu": {},
   "number_sections": true,
   "sideBar": true,
   "skip_h1_title": false,
   "title_cell": "Table of Contents",
   "title_sidebar": "Contents",
   "toc_cell": false,
   "toc_position": {},
   "toc_section_display": true,
   "toc_window_display": false
  },
  "varInspector": {
   "cols": {
    "lenName": 16,
    "lenType": 16,
    "lenVar": 40
   },
   "kernels_config": {
    "python": {
     "delete_cmd_postfix": "",
     "delete_cmd_prefix": "del ",
     "library": "var_list.py",
     "varRefreshCmd": "print(var_dic_list())"
    },
    "r": {
     "delete_cmd_postfix": ") ",
     "delete_cmd_prefix": "rm(",
     "library": "var_list.r",
     "varRefreshCmd": "cat(var_dic_list()) "
    }
   },
   "types_to_exclude": [
    "module",
    "function",
    "builtin_function_or_method",
    "instance",
    "_Feature"
   ],
   "window_display": false
  }
 },
 "nbformat": 4,
 "nbformat_minor": 5
}
